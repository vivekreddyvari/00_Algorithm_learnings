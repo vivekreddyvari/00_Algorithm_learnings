{
 "cells": [
  {
   "cell_type": "markdown",
   "metadata": {},
   "source": [
    "# K-Means Clustering Alogorithm\n",
    "- Clustering refers to a collection of data-points aggregated together because of certain similarities.\n",
    "- Find:\n",
    "    - You'll define a target number k, which refers to the number of centroids you need in a dataset.\n",
    "    - A centroid is an imaginary or real location, representing the center of the cluster.\n",
    "    - Every data point is allocated to each of the clusters through reducing the in-cluster sum of squares.\n",
    "    - In other words, the K-means algorithm identifies k number of centroids, and then allocates every data point to the nearest cluster, while keeping the centroids as small as possible.\n",
    "    - The ‘means’ in the K-means refers to averaging of the data; that is, finding the centroid.\n",
    "\n",
    "\n",
    "# How the K-means algorithm works\n",
    "- To process the learning data, the K-means algorithm in data mining starts with a first group of randomly selected centroids, which are used as the beginning points for every cluster, and then performs iterative (repetitive) calculations to optimize the positions of the centroids\n",
    "- It halts creating and optimizing clusters when either:\n",
    "- The centroids have stabilized — there is no change in their values because the clustering has been successful.\n",
    "- The defined number of iterations has been achieved.\n"
   ]
  },
  {
   "cell_type": "code",
   "execution_count": 1,
   "metadata": {},
   "outputs": [],
   "source": [
    "# Example \n",
    "# Declaration of required libraries\n",
    "import pandas as pd\n",
    "import numpy  as np\n",
    "import matplotlib.pyplot as plt\n",
    "from sklearn.cluster import KMeans\n",
    "%matplotlib inline "
   ]
  },
  {
   "cell_type": "code",
   "execution_count": 6,
   "metadata": {},
   "outputs": [
    {
     "data": {
      "image/png": "[encoded data removed]",
      "text/plain": [
       "<Figure size 432x288 with 1 Axes>"
      ]
     },
     "metadata": {
      "needs_background": "light"
     },
     "output_type": "display_data"
    }
   ],
   "source": [
    "# Generate random data\n",
    "\n",
    "X = (-2 * np.random.rand(100,2))\n",
    "X1 = 1 + (2 * np.random.rand(50,2))\n",
    "X[50:100, :] = X1\n",
    "plt.scatter(X[ : , 0], X[ :, 1], s = 50, c='b')\n",
    "plt.show()"
   ]
  },
  {
   "cell_type": "code",
   "execution_count": 7,
   "metadata": {},
   "outputs": [
    {
     "data": {
      "text/plain": [
       "KMeans(algorithm='auto', copy_x=True, init='k-means++', max_iter=300,\n",
       "    n_clusters=2, n_init=10, n_jobs=None, precompute_distances='auto',\n",
       "    random_state=None, tol=0.0001, verbose=0)"
      ]
     },
     "execution_count": 7,
     "metadata": {},
     "output_type": "execute_result"
    }
   ],
   "source": [
    "Kmean = KMeans(n_clusters=2)\n",
    "Kmean.fit(X)"
   ]
  },
  {
   "cell_type": "code",
   "execution_count": 8,
   "metadata": {},
   "outputs": [],
   "source": [
    "w = Kmean.cluster_centers_"
   ]
  },
  {
   "cell_type": "code",
   "execution_count": 18,
   "metadata": {},
   "outputs": [],
   "source": [
    "w00 = w[0, 0]\n",
    "w01 = w[0, 1]\n",
    "w10 = w[1, 0]\n",
    "w11 = w[1, 1]"
   ]
  },
  {
   "cell_type": "code",
   "execution_count": 20,
   "metadata": {},
   "outputs": [
    {
     "data": {
      "text/plain": [
       "(1.9674899032372966,\n",
       " 2.054718266025857,\n",
       " -1.0989781027444345,\n",
       " -0.8994272278691055)"
      ]
     },
     "execution_count": 20,
     "metadata": {},
     "output_type": "execute_result"
    }
   ],
   "source": [
    "w00, w01, w10, w11"
   ]
  },
  {
   "cell_type": "code",
   "execution_count": 46,
   "metadata": {},
   "outputs": [
    {
     "data": {
      "image/png": "[encoded data removed]",
      "text/plain": [
       "<Figure size 432x288 with 1 Axes>"
      ]
     },
     "metadata": {
      "needs_background": "light"
     },
     "output_type": "display_data"
    }
   ],
   "source": [
    "plt.scatter(X[ : , 0], X[ : , 1], s =50, c='b')\n",
    "\n",
    "plt.scatter(w00, w01, s=200, c='y', marker='s', label='cluster-0')\n",
    "plt.scatter(w10, w11, s=200, c='r', marker='s', label='cluster-1')\n",
    "plt.show()"
   ]
  },
  {
   "cell_type": "code",
   "execution_count": 25,
   "metadata": {},
   "outputs": [
    {
     "data": {
      "text/plain": [
       "array([1, 1, 1, 1, 1, 1, 1, 1, 1, 1, 1, 1, 1, 1, 1, 1, 1, 1, 1, 1, 1, 1,\n",
       "       1, 1, 1, 1, 1, 1, 1, 1, 1, 1, 1, 1, 1, 1, 1, 1, 1, 1, 1, 1, 1, 1,\n",
       "       1, 1, 1, 1, 1, 1, 0, 0, 0, 0, 0, 0, 0, 0, 0, 0, 0, 0, 0, 0, 0, 0,\n",
       "       0, 0, 0, 0, 0, 0, 0, 0, 0, 0, 0, 0, 0, 0, 0, 0, 0, 0, 0, 0, 0, 0,\n",
       "       0, 0, 0, 0, 0, 0, 0, 0, 0, 0, 0, 0])"
      ]
     },
     "execution_count": 25,
     "metadata": {},
     "output_type": "execute_result"
    }
   ],
   "source": [
    "Kmean.labels_"
   ]
  },
  {
   "cell_type": "code",
   "execution_count": 38,
   "metadata": {},
   "outputs": [
    {
     "name": "stdout",
     "output_type": "stream",
     "text": [
      "1\n",
      "cluster-0\n",
      "1\n",
      "cluster-0\n",
      "1\n",
      "cluster-0\n",
      "1\n",
      "cluster-0\n",
      "1\n",
      "cluster-0\n",
      "1\n",
      "cluster-0\n",
      "1\n",
      "cluster-0\n",
      "1\n",
      "cluster-0\n",
      "1\n",
      "cluster-0\n",
      "1\n",
      "cluster-0\n",
      "1\n",
      "cluster-0\n",
      "1\n",
      "cluster-0\n",
      "1\n",
      "cluster-0\n",
      "1\n",
      "cluster-0\n",
      "1\n",
      "cluster-0\n",
      "1\n",
      "cluster-0\n",
      "1\n",
      "cluster-0\n",
      "1\n",
      "cluster-0\n",
      "1\n",
      "cluster-0\n",
      "1\n",
      "cluster-0\n",
      "1\n",
      "cluster-0\n",
      "1\n",
      "cluster-0\n",
      "1\n",
      "cluster-0\n",
      "1\n",
      "cluster-0\n",
      "1\n",
      "cluster-0\n",
      "1\n",
      "cluster-0\n",
      "1\n",
      "cluster-0\n",
      "1\n",
      "cluster-0\n",
      "1\n",
      "cluster-0\n",
      "1\n",
      "cluster-0\n",
      "1\n",
      "cluster-0\n",
      "1\n",
      "cluster-0\n",
      "1\n",
      "cluster-0\n",
      "1\n",
      "cluster-0\n",
      "1\n",
      "cluster-0\n",
      "1\n",
      "cluster-0\n",
      "1\n",
      "cluster-0\n",
      "1\n",
      "cluster-0\n",
      "1\n",
      "cluster-0\n",
      "1\n",
      "cluster-0\n",
      "1\n",
      "cluster-0\n",
      "1\n",
      "cluster-0\n",
      "1\n",
      "cluster-0\n",
      "1\n",
      "cluster-0\n",
      "1\n",
      "cluster-0\n",
      "1\n",
      "cluster-0\n",
      "1\n",
      "cluster-0\n",
      "1\n",
      "cluster-0\n",
      "1\n",
      "cluster-0\n",
      "1\n",
      "cluster-0\n",
      "0\n",
      "cluster-1\n",
      "0\n",
      "cluster-1\n",
      "0\n",
      "cluster-1\n",
      "0\n",
      "cluster-1\n",
      "0\n",
      "cluster-1\n",
      "0\n",
      "cluster-1\n",
      "0\n",
      "cluster-1\n",
      "0\n",
      "cluster-1\n",
      "0\n",
      "cluster-1\n",
      "0\n",
      "cluster-1\n",
      "0\n",
      "cluster-1\n",
      "0\n",
      "cluster-1\n",
      "0\n",
      "cluster-1\n",
      "0\n",
      "cluster-1\n",
      "0\n",
      "cluster-1\n",
      "0\n",
      "cluster-1\n",
      "0\n",
      "cluster-1\n",
      "0\n",
      "cluster-1\n",
      "0\n",
      "cluster-1\n",
      "0\n",
      "cluster-1\n",
      "0\n",
      "cluster-1\n",
      "0\n",
      "cluster-1\n",
      "0\n",
      "cluster-1\n",
      "0\n",
      "cluster-1\n",
      "0\n",
      "cluster-1\n",
      "0\n",
      "cluster-1\n",
      "0\n",
      "cluster-1\n",
      "0\n",
      "cluster-1\n",
      "0\n",
      "cluster-1\n",
      "0\n",
      "cluster-1\n",
      "0\n",
      "cluster-1\n",
      "0\n",
      "cluster-1\n",
      "0\n",
      "cluster-1\n",
      "0\n",
      "cluster-1\n",
      "0\n",
      "cluster-1\n",
      "0\n",
      "cluster-1\n",
      "0\n",
      "cluster-1\n",
      "0\n",
      "cluster-1\n",
      "0\n",
      "cluster-1\n",
      "0\n",
      "cluster-1\n",
      "0\n",
      "cluster-1\n",
      "0\n",
      "cluster-1\n",
      "0\n",
      "cluster-1\n",
      "0\n",
      "cluster-1\n",
      "0\n",
      "cluster-1\n",
      "0\n",
      "cluster-1\n",
      "0\n",
      "cluster-1\n",
      "0\n",
      "cluster-1\n",
      "0\n",
      "cluster-1\n",
      "0\n",
      "cluster-1\n"
     ]
    }
   ],
   "source": [
    "results = Kmean.labels_\n",
    "for x in results:\n",
    "  print(x) \n",
    "  if x == 1:\n",
    "    print('cluster-0')\n",
    "  else:\n",
    "    print('cluster-1')         "
   ]
  },
  {
   "cell_type": "code",
   "execution_count": null,
   "metadata": {},
   "outputs": [],
   "source": []
  }
 ],
 "metadata": {
  "kernelspec": {
   "display_name": "Python 3",
   "language": "python",
   "name": "python3"
  },
  "language_info": {
   "codemirror_mode": {
    "name": "ipython",
    "version": 3
   },
   "file_extension": ".py",
   "mimetype": "text/x-python",
   "name": "python",
   "nbconvert_exporter": "python",
   "pygments_lexer": "ipython3",
   "version": "3.7.1"
  }
 },
 "nbformat": 4,
 "nbformat_minor": 2
}
